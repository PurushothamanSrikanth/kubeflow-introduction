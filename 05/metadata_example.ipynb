{
 "cells": [
  {
   "cell_type": "markdown",
   "metadata": {},
   "source": [
    "# Metadata management in kubeflow"
   ]
  },
  {
   "cell_type": "code",
   "execution_count": null,
   "metadata": {},
   "outputs": [],
   "source": [
    "!pip install kubeflow-metadata --user"
   ]
  },
  {
   "cell_type": "code",
   "execution_count": 1,
   "metadata": {},
   "outputs": [],
   "source": [
    "from kubeflow.metadata import metadata\n",
    "from datetime import datetime\n",
    "from uuid import uuid4"
   ]
  },
  {
   "cell_type": "code",
   "execution_count": 2,
   "metadata": {},
   "outputs": [],
   "source": [
    "METADATA_STORE_HOST = \"metadata-grpc-service.kubeflow\" # default DNS of Kubeflow Metadata gRPC serivce.\n",
    "METADATA_STORE_PORT = 8080"
   ]
  },
  {
   "cell_type": "code",
   "execution_count": 3,
   "metadata": {},
   "outputs": [],
   "source": [
    "#Define a workspace\n",
    "ws_tf = metadata.Workspace(\n",
    "    \n",
    "    store=metadata.Store(grpc_host=METADATA_STORE_HOST, grpc_port=METADATA_STORE_PORT),\n",
    "    name=\"kubeflow_dnn_tf\",\n",
    "    description=\"Simple DNN workspace\",\n",
    "    labels={\"Execution_key_1\": \"value_1\"})"
   ]
  },
  {
   "cell_type": "code",
   "execution_count": 4,
   "metadata": {},
   "outputs": [],
   "source": [
    "#Create a run inside the workspace\n",
    "r = metadata.Run(\n",
    "    workspace=ws_tf,\n",
    "    name=\"run-\" + datetime.utcnow().isoformat(\"T\") ,\n",
    "    description=\"A example run\"\n",
    ")"
   ]
  },
  {
   "cell_type": "code",
   "execution_count": 5,
   "metadata": {},
   "outputs": [
    {
     "name": "stdout",
     "output_type": "stream",
     "text": [
      "An execution was created with id 16\n"
     ]
    }
   ],
   "source": [
    "#Create an execution\n",
    "exec = metadata.Execution(\n",
    "    name = \"execution\" + datetime.utcnow().isoformat(\"T\") ,\n",
    "    workspace=ws_tf,\n",
    "    run=r,\n",
    "    description=\"DNN Execution example\",\n",
    ")\n",
    "print(\"An execution was created with id %s\" % exec.id)"
   ]
  },
  {
   "cell_type": "code",
   "execution_count": 6,
   "metadata": {},
   "outputs": [],
   "source": [
    "##Run model ...."
   ]
  },
  {
   "cell_type": "code",
   "execution_count": 7,
   "metadata": {},
   "outputs": [
    {
     "name": "stdout",
     "output_type": "stream",
     "text": [
      "Data set id is 11 with version 'data_set_version_cecc67e2-b908-457d-a627-7123570ea03f'\n"
     ]
    }
   ],
   "source": [
    "#Log information about the input data used\n",
    "date_set_version = \"data_set_version_\" + str(uuid4())\n",
    "data_set = exec.log_input(\n",
    "        metadata.DataSet(\n",
    "            description=\"Sample dateset - fashion mnist\",\n",
    "            name=\"data-exraction\",\n",
    "            owner=\"luis@luis.com\",\n",
    "            uri=\"gs://...\",\n",
    "            version=date_set_version,\n",
    "            query=\"SELECT * FROM table ...\"))\n",
    "print(\"Data set id is {0.id} with version '{0.version}'\".format(data_set))"
   ]
  },
  {
   "cell_type": "code",
   "execution_count": 8,
   "metadata": {},
   "outputs": [
    {
     "name": "stdout",
     "output_type": "stream",
     "text": [
      "kubeflow.metadata.metadata.Model(workspace=None, name='MNIST Fashion', description='model to recognize classify fashion', owner='luis@luis.com', uri='gs://...', version='model_version_944e639b-db1f-45a5-b13b-c9ec282e7451', model_type='neural network', training_framework={'name': 'tensorflow', 'version': 'v1.0'}, hyperparameters={'layers': [10, 3, 1], 'early_stop': True}, labels={'mylabel': 'l1'}, id=12, create_time='2020-12-11T18:56:39.711894Z', kwargs={})\n",
      "\n",
      "Model id is 12 and version is model_version_944e639b-db1f-45a5-b13b-c9ec282e7451\n"
     ]
    }
   ],
   "source": [
    "#Log information about a trained model\n",
    "model_version = \"model_version_\" + str(uuid4())\n",
    "model = exec.log_output(\n",
    "    metadata.Model(\n",
    "            name=\"MNIST Fashion\",\n",
    "            description=\"model to recognize classify fashion\",\n",
    "            owner=\"luis@luis.com\",\n",
    "            uri=\"gs://...\",\n",
    "            model_type=\"neural network\",\n",
    "            training_framework={\n",
    "                \"name\": \"tensorflow\",\n",
    "                \"version\": \"v1.0\"\n",
    "            },\n",
    "            hyperparameters={\n",
    "                \n",
    "                \"layers\": [10, 3, 1],\n",
    "                \"early_stop\": True\n",
    "            },\n",
    "            version=model_version,\n",
    "            labels={\"mylabel\": \"l1\"}))\n",
    "print(model)\n",
    "print(\"\\nModel id is {0.id} and version is {0.version}\".format(model))"
   ]
  },
  {
   "cell_type": "code",
   "execution_count": 9,
   "metadata": {},
   "outputs": [
    {
     "name": "stdout",
     "output_type": "stream",
     "text": [
      "Metrics id is 13\n"
     ]
    }
   ],
   "source": [
    "#Log metrics information about the model\n",
    "metrics = exec.log_output(\n",
    "    metadata.Metrics(\n",
    "            name=\"Fashion MNIST-evaluation\",\n",
    "            description=\"validating the Fashion MNIST model to recognize fashion clothes\",\n",
    "            owner=\"luis@luis.com\",\n",
    "            uri=\"gs://...\",\n",
    "            data_set_id=str(data_set.id),\n",
    "            model_id=str(model.id),\n",
    "            metrics_type=metadata.Metrics.VALIDATION,\n",
    "            values={\"accuracy\": 0.95},\n",
    "            labels={\"mylabel\": \"l1\"}))\n",
    "print(\"Metrics id is %s\" % metrics.id)"
   ]
  },
  {
   "cell_type": "code",
   "execution_count": null,
   "metadata": {},
   "outputs": [],
   "source": []
  }
 ],
 "metadata": {
  "kernelspec": {
   "display_name": "Python 3",
   "language": "python",
   "name": "python3"
  },
  "language_info": {
   "codemirror_mode": {
    "name": "ipython",
    "version": 3
   },
   "file_extension": ".py",
   "mimetype": "text/x-python",
   "name": "python",
   "nbconvert_exporter": "python",
   "pygments_lexer": "ipython3",
   "version": "3.6.9"
  }
 },
 "nbformat": 4,
 "nbformat_minor": 4
}
